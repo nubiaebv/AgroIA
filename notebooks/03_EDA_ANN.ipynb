{
 "cells": [
  {
   "metadata": {
    "ExecuteTime": {
     "end_time": "2025-07-18T20:40:48.023626Z",
     "start_time": "2025-07-18T20:40:48.000038Z"
    }
   },
   "cell_type": "code",
   "source": [
    "import pandas as pd\n",
    "import matplotlib.pyplot as plt\n",
    "import seaborn as sns\n",
    "from src.RecomendadorClimatico import RecomendadorClimatico\n",
    "from src.Transformaciones import Transformaciones\n",
    "from src.AgregarPH import CargaData, AgregarPH"
   ],
   "id": "6d5b80111da1a6a0",
   "outputs": [],
   "execution_count": 1
  },
  {
   "metadata": {
    "ExecuteTime": {
     "end_time": "2025-07-18T20:41:10.182350Z",
     "start_time": "2025-07-18T20:41:10.175348Z"
    }
   },
   "cell_type": "code",
   "source": "path = '../data/raw/ANN'",
   "id": "14781ad74eefecd9",
   "outputs": [],
   "execution_count": 2
  },
  {
   "metadata": {
    "ExecuteTime": {
     "end_time": "2025-07-07T22:26:47.781680Z",
     "start_time": "2025-07-07T22:26:47.776636Z"
    }
   },
   "cell_type": "code",
   "source": "# 2.Importación fuente de datos",
   "id": "ebe5484a35814c0d",
   "outputs": [],
   "execution_count": 3
  },
  {
   "metadata": {
    "ExecuteTime": {
     "end_time": "2025-07-18T20:41:15.342035Z",
     "start_time": "2025-07-18T20:41:15.248928Z"
    }
   },
   "cell_type": "code",
   "source": [
    "carga = CargaData(path+'/data.csv')\n",
    "df = carga.obtener_data()\n",
    "agregar_ph = AgregarPH(df)\n",
    "df_con_ph = agregar_ph.generar_ph_mensual()\n",
    "df_con_ph.to_csv(path+\"/df_con_ph.csv\", index=False)"
   ],
   "id": "2d66efb80dd9ae8c",
   "outputs": [],
   "execution_count": 3
  },
  {
   "metadata": {
    "ExecuteTime": {
     "end_time": "2025-07-18T20:41:35.837665Z",
     "start_time": "2025-07-18T20:41:35.801668Z"
    }
   },
   "cell_type": "code",
   "source": [
    "#Lectura datos históricos\n",
    "df = pd.read_csv(path+'/df_con_ph.csv',encoding = \"ISO-8859-1\",delimiter=',')"
   ],
   "id": "23e55da88c30527b",
   "outputs": [],
   "execution_count": 4
  },
  {
   "metadata": {
    "ExecuteTime": {
     "end_time": "2025-07-14T05:38:06.368767Z",
     "start_time": "2025-07-14T05:38:06.358670Z"
    }
   },
   "cell_type": "code",
   "source": [
    "\"\"\"\n",
    "Fuente: NASA/POWER – Resolución nativa mensual y anual\n",
    "Fechas (mes/día/año): del 01/01/1981 al 31/12/2025 en hora solar local (LST)\n",
    "Ubicación: Latitud 9.8062  Longitud -83.8448\n",
    "Elevación según MERRA-2: Promedio para una región de 0.5 x 0.625 grados de latitud/longitud = 1064.94 metros\n",
    "Valor para datos faltantes que no pueden ser calculados o que están fuera del rango de disponibilidad de las fuentes: -999\n",
    "Parámetro(s):\n",
    "- PRECTOTCORR: Precipitación corregida de MERRA-2 (mm/día)\n",
    "- PRECTOTCORR_SUM: Suma de la precipitación corregida de MERRA-2 (mm/día)\n",
    "- QV2M: Humedad específica a 2 metros según MERRA-2 (g/kg)\n",
    "- RH2M: Humedad relativa a 2 metros según MERRA-2 (%)\n",
    "- T2M: Temperatura a 2 metros según MERRA-2 (°C)\n",
    "- T2M_MAX: Temperatura máxima a 2 metros según MERRA-2 (°C)\n",
    "- T2M_MIN: Temperatura mínima a 2 metros según MERRA-2 (°C)\n",
    "\"\"\""
   ],
   "id": "ad8a7134d09b3b5b",
   "outputs": [
    {
     "data": {
      "text/plain": [
       "'\\nFuente: NASA/POWER – Resolución nativa mensual y anual\\nFechas (mes/día/año): del 01/01/1981 al 31/12/2025 en hora solar local (LST)\\nUbicación: Latitud 9.8062  Longitud -83.8448\\nElevación según MERRA-2: Promedio para una región de 0.5 x 0.625 grados de latitud/longitud = 1064.94 metros\\nValor para datos faltantes que no pueden ser calculados o que están fuera del rango de disponibilidad de las fuentes: -999\\nParámetro(s):\\n- PRECTOTCORR: Precipitación corregida de MERRA-2 (mm/día)\\n- PRECTOTCORR_SUM: Suma de la precipitación corregida de MERRA-2 (mm/día)\\n- QV2M: Humedad específica a 2 metros según MERRA-2 (g/kg)\\n- RH2M: Humedad relativa a 2 metros según MERRA-2 (%)\\n- T2M: Temperatura a 2 metros según MERRA-2 (°C)\\n- T2M_MAX: Temperatura máxima a 2 metros según MERRA-2 (°C)\\n- T2M_MIN: Temperatura mínima a 2 metros según MERRA-2 (°C)\\n'"
      ]
     },
     "execution_count": 13,
     "metadata": {},
     "output_type": "execute_result"
    }
   ],
   "execution_count": 13
  },
  {
   "metadata": {
    "ExecuteTime": {
     "end_time": "2025-07-18T20:42:07.139119Z",
     "start_time": "2025-07-18T20:42:07.082486Z"
    }
   },
   "cell_type": "code",
   "source": "df.head()",
   "id": "f5b1f15b2c972381",
   "outputs": [
    {
     "data": {
      "text/plain": [
       "     PARAMETER  YEAR   JAN   FEB   MAR   APR   MAY    JUN   JUL   AUG  ...  \\\n",
       "0  PRECTOTCORR  1981  2.64  3.32  1.72  6.02  6.66  11.86  3.34  9.65  ...   \n",
       "1  PRECTOTCORR  1982  3.30  2.99  1.35  3.71  8.90   2.92  8.43  4.88  ...   \n",
       "2  PRECTOTCORR  1983  1.38  0.09  0.93  3.76  3.01   4.61  5.27  5.66  ...   \n",
       "3  PRECTOTCORR  1984  0.69  1.01  0.60  2.72  4.78   5.78  4.80  6.55  ...   \n",
       "4  PRECTOTCORR  1985  1.94  0.41  0.50  0.84  2.21   8.02  5.41  4.31  ...   \n",
       "\n",
       "   MAR_PH_SUELO  APR_PH_SUELO  MAY_PH_SUELO  JUN_PH_SUELO  JUL_PH_SUELO  \\\n",
       "0          3.01          3.72          4.84          3.43          4.48   \n",
       "1          7.94          5.28          7.79          5.88          5.29   \n",
       "2          3.19          8.19          4.15          6.13          3.83   \n",
       "3          3.17          3.95          8.17          4.74          4.85   \n",
       "4          7.38          4.34          5.65          5.19          8.89   \n",
       "\n",
       "   AUG_PH_SUELO  SEP_PH_SUELO  OCT_PH_SUELO  NOV_PH_SUELO  DEC_PH_SUELO  \n",
       "0          4.75          7.64          3.60          8.33          3.45  \n",
       "1          5.56          5.40          6.08          5.42          7.82  \n",
       "2          5.59          4.94          8.83          8.71          5.75  \n",
       "3          3.46          6.78          7.27          7.05          5.67  \n",
       "4          5.07          6.21          8.19          6.26          5.13  \n",
       "\n",
       "[5 rows x 27 columns]"
      ],
      "text/html": [
       "<div>\n",
       "<style scoped>\n",
       "    .dataframe tbody tr th:only-of-type {\n",
       "        vertical-align: middle;\n",
       "    }\n",
       "\n",
       "    .dataframe tbody tr th {\n",
       "        vertical-align: top;\n",
       "    }\n",
       "\n",
       "    .dataframe thead th {\n",
       "        text-align: right;\n",
       "    }\n",
       "</style>\n",
       "<table border=\"1\" class=\"dataframe\">\n",
       "  <thead>\n",
       "    <tr style=\"text-align: right;\">\n",
       "      <th></th>\n",
       "      <th>PARAMETER</th>\n",
       "      <th>YEAR</th>\n",
       "      <th>JAN</th>\n",
       "      <th>FEB</th>\n",
       "      <th>MAR</th>\n",
       "      <th>APR</th>\n",
       "      <th>MAY</th>\n",
       "      <th>JUN</th>\n",
       "      <th>JUL</th>\n",
       "      <th>AUG</th>\n",
       "      <th>...</th>\n",
       "      <th>MAR_PH_SUELO</th>\n",
       "      <th>APR_PH_SUELO</th>\n",
       "      <th>MAY_PH_SUELO</th>\n",
       "      <th>JUN_PH_SUELO</th>\n",
       "      <th>JUL_PH_SUELO</th>\n",
       "      <th>AUG_PH_SUELO</th>\n",
       "      <th>SEP_PH_SUELO</th>\n",
       "      <th>OCT_PH_SUELO</th>\n",
       "      <th>NOV_PH_SUELO</th>\n",
       "      <th>DEC_PH_SUELO</th>\n",
       "    </tr>\n",
       "  </thead>\n",
       "  <tbody>\n",
       "    <tr>\n",
       "      <th>0</th>\n",
       "      <td>PRECTOTCORR</td>\n",
       "      <td>1981</td>\n",
       "      <td>2.64</td>\n",
       "      <td>3.32</td>\n",
       "      <td>1.72</td>\n",
       "      <td>6.02</td>\n",
       "      <td>6.66</td>\n",
       "      <td>11.86</td>\n",
       "      <td>3.34</td>\n",
       "      <td>9.65</td>\n",
       "      <td>...</td>\n",
       "      <td>3.01</td>\n",
       "      <td>3.72</td>\n",
       "      <td>4.84</td>\n",
       "      <td>3.43</td>\n",
       "      <td>4.48</td>\n",
       "      <td>4.75</td>\n",
       "      <td>7.64</td>\n",
       "      <td>3.60</td>\n",
       "      <td>8.33</td>\n",
       "      <td>3.45</td>\n",
       "    </tr>\n",
       "    <tr>\n",
       "      <th>1</th>\n",
       "      <td>PRECTOTCORR</td>\n",
       "      <td>1982</td>\n",
       "      <td>3.30</td>\n",
       "      <td>2.99</td>\n",
       "      <td>1.35</td>\n",
       "      <td>3.71</td>\n",
       "      <td>8.90</td>\n",
       "      <td>2.92</td>\n",
       "      <td>8.43</td>\n",
       "      <td>4.88</td>\n",
       "      <td>...</td>\n",
       "      <td>7.94</td>\n",
       "      <td>5.28</td>\n",
       "      <td>7.79</td>\n",
       "      <td>5.88</td>\n",
       "      <td>5.29</td>\n",
       "      <td>5.56</td>\n",
       "      <td>5.40</td>\n",
       "      <td>6.08</td>\n",
       "      <td>5.42</td>\n",
       "      <td>7.82</td>\n",
       "    </tr>\n",
       "    <tr>\n",
       "      <th>2</th>\n",
       "      <td>PRECTOTCORR</td>\n",
       "      <td>1983</td>\n",
       "      <td>1.38</td>\n",
       "      <td>0.09</td>\n",
       "      <td>0.93</td>\n",
       "      <td>3.76</td>\n",
       "      <td>3.01</td>\n",
       "      <td>4.61</td>\n",
       "      <td>5.27</td>\n",
       "      <td>5.66</td>\n",
       "      <td>...</td>\n",
       "      <td>3.19</td>\n",
       "      <td>8.19</td>\n",
       "      <td>4.15</td>\n",
       "      <td>6.13</td>\n",
       "      <td>3.83</td>\n",
       "      <td>5.59</td>\n",
       "      <td>4.94</td>\n",
       "      <td>8.83</td>\n",
       "      <td>8.71</td>\n",
       "      <td>5.75</td>\n",
       "    </tr>\n",
       "    <tr>\n",
       "      <th>3</th>\n",
       "      <td>PRECTOTCORR</td>\n",
       "      <td>1984</td>\n",
       "      <td>0.69</td>\n",
       "      <td>1.01</td>\n",
       "      <td>0.60</td>\n",
       "      <td>2.72</td>\n",
       "      <td>4.78</td>\n",
       "      <td>5.78</td>\n",
       "      <td>4.80</td>\n",
       "      <td>6.55</td>\n",
       "      <td>...</td>\n",
       "      <td>3.17</td>\n",
       "      <td>3.95</td>\n",
       "      <td>8.17</td>\n",
       "      <td>4.74</td>\n",
       "      <td>4.85</td>\n",
       "      <td>3.46</td>\n",
       "      <td>6.78</td>\n",
       "      <td>7.27</td>\n",
       "      <td>7.05</td>\n",
       "      <td>5.67</td>\n",
       "    </tr>\n",
       "    <tr>\n",
       "      <th>4</th>\n",
       "      <td>PRECTOTCORR</td>\n",
       "      <td>1985</td>\n",
       "      <td>1.94</td>\n",
       "      <td>0.41</td>\n",
       "      <td>0.50</td>\n",
       "      <td>0.84</td>\n",
       "      <td>2.21</td>\n",
       "      <td>8.02</td>\n",
       "      <td>5.41</td>\n",
       "      <td>4.31</td>\n",
       "      <td>...</td>\n",
       "      <td>7.38</td>\n",
       "      <td>4.34</td>\n",
       "      <td>5.65</td>\n",
       "      <td>5.19</td>\n",
       "      <td>8.89</td>\n",
       "      <td>5.07</td>\n",
       "      <td>6.21</td>\n",
       "      <td>8.19</td>\n",
       "      <td>6.26</td>\n",
       "      <td>5.13</td>\n",
       "    </tr>\n",
       "  </tbody>\n",
       "</table>\n",
       "<p>5 rows × 27 columns</p>\n",
       "</div>"
      ]
     },
     "execution_count": 5,
     "metadata": {},
     "output_type": "execute_result"
    }
   ],
   "execution_count": 5
  },
  {
   "metadata": {
    "ExecuteTime": {
     "end_time": "2025-07-18T20:42:24.293947Z",
     "start_time": "2025-07-18T20:42:24.213201Z"
    }
   },
   "cell_type": "code",
   "source": "df.tail()",
   "id": "9f0801703cfbf4fc",
   "outputs": [
    {
     "data": {
      "text/plain": [
       "    PARAMETER  YEAR    JAN    FEB    MAR    APR     MAY     JUN     JUL  \\\n",
       "310   T2M_MIN  2021  13.59  15.41  13.38  15.34   15.95   15.07   16.23   \n",
       "311   T2M_MIN  2022  15.20  12.54  14.26  15.80   16.22   15.30   16.29   \n",
       "312   T2M_MIN  2023  14.71  13.53  15.29  14.76   16.99   15.81   16.89   \n",
       "313   T2M_MIN  2024  15.93  13.93  14.21  14.95   16.76   17.71   16.85   \n",
       "314   T2M_MIN  2025  14.90  15.61  15.96  16.50 -999.00 -999.00 -999.00   \n",
       "\n",
       "        AUG  ...  MAR_PH_SUELO  APR_PH_SUELO  MAY_PH_SUELO  JUN_PH_SUELO  \\\n",
       "310   15.62  ...          5.38          4.18          5.88          4.90   \n",
       "311   15.27  ...          3.96          8.06          3.30          3.02   \n",
       "312   17.24  ...          5.21          7.03          7.64          7.81   \n",
       "313   17.28  ...          6.85          7.72          7.68          5.59   \n",
       "314 -999.00  ...          4.99          6.05          7.93          5.21   \n",
       "\n",
       "     JUL_PH_SUELO  AUG_PH_SUELO  SEP_PH_SUELO  OCT_PH_SUELO  NOV_PH_SUELO  \\\n",
       "310          6.56          6.27          5.98          7.47          3.24   \n",
       "311          6.41          6.50          7.35          5.00          4.57   \n",
       "312          8.53          6.40          5.58          3.55          3.52   \n",
       "313          6.97          7.18          5.16          3.61          6.89   \n",
       "314          7.46          7.72          8.42          5.22          5.42   \n",
       "\n",
       "     DEC_PH_SUELO  \n",
       "310          6.11  \n",
       "311          8.97  \n",
       "312          5.76  \n",
       "313          3.63  \n",
       "314          7.62  \n",
       "\n",
       "[5 rows x 27 columns]"
      ],
      "text/html": [
       "<div>\n",
       "<style scoped>\n",
       "    .dataframe tbody tr th:only-of-type {\n",
       "        vertical-align: middle;\n",
       "    }\n",
       "\n",
       "    .dataframe tbody tr th {\n",
       "        vertical-align: top;\n",
       "    }\n",
       "\n",
       "    .dataframe thead th {\n",
       "        text-align: right;\n",
       "    }\n",
       "</style>\n",
       "<table border=\"1\" class=\"dataframe\">\n",
       "  <thead>\n",
       "    <tr style=\"text-align: right;\">\n",
       "      <th></th>\n",
       "      <th>PARAMETER</th>\n",
       "      <th>YEAR</th>\n",
       "      <th>JAN</th>\n",
       "      <th>FEB</th>\n",
       "      <th>MAR</th>\n",
       "      <th>APR</th>\n",
       "      <th>MAY</th>\n",
       "      <th>JUN</th>\n",
       "      <th>JUL</th>\n",
       "      <th>AUG</th>\n",
       "      <th>...</th>\n",
       "      <th>MAR_PH_SUELO</th>\n",
       "      <th>APR_PH_SUELO</th>\n",
       "      <th>MAY_PH_SUELO</th>\n",
       "      <th>JUN_PH_SUELO</th>\n",
       "      <th>JUL_PH_SUELO</th>\n",
       "      <th>AUG_PH_SUELO</th>\n",
       "      <th>SEP_PH_SUELO</th>\n",
       "      <th>OCT_PH_SUELO</th>\n",
       "      <th>NOV_PH_SUELO</th>\n",
       "      <th>DEC_PH_SUELO</th>\n",
       "    </tr>\n",
       "  </thead>\n",
       "  <tbody>\n",
       "    <tr>\n",
       "      <th>310</th>\n",
       "      <td>T2M_MIN</td>\n",
       "      <td>2021</td>\n",
       "      <td>13.59</td>\n",
       "      <td>15.41</td>\n",
       "      <td>13.38</td>\n",
       "      <td>15.34</td>\n",
       "      <td>15.95</td>\n",
       "      <td>15.07</td>\n",
       "      <td>16.23</td>\n",
       "      <td>15.62</td>\n",
       "      <td>...</td>\n",
       "      <td>5.38</td>\n",
       "      <td>4.18</td>\n",
       "      <td>5.88</td>\n",
       "      <td>4.90</td>\n",
       "      <td>6.56</td>\n",
       "      <td>6.27</td>\n",
       "      <td>5.98</td>\n",
       "      <td>7.47</td>\n",
       "      <td>3.24</td>\n",
       "      <td>6.11</td>\n",
       "    </tr>\n",
       "    <tr>\n",
       "      <th>311</th>\n",
       "      <td>T2M_MIN</td>\n",
       "      <td>2022</td>\n",
       "      <td>15.20</td>\n",
       "      <td>12.54</td>\n",
       "      <td>14.26</td>\n",
       "      <td>15.80</td>\n",
       "      <td>16.22</td>\n",
       "      <td>15.30</td>\n",
       "      <td>16.29</td>\n",
       "      <td>15.27</td>\n",
       "      <td>...</td>\n",
       "      <td>3.96</td>\n",
       "      <td>8.06</td>\n",
       "      <td>3.30</td>\n",
       "      <td>3.02</td>\n",
       "      <td>6.41</td>\n",
       "      <td>6.50</td>\n",
       "      <td>7.35</td>\n",
       "      <td>5.00</td>\n",
       "      <td>4.57</td>\n",
       "      <td>8.97</td>\n",
       "    </tr>\n",
       "    <tr>\n",
       "      <th>312</th>\n",
       "      <td>T2M_MIN</td>\n",
       "      <td>2023</td>\n",
       "      <td>14.71</td>\n",
       "      <td>13.53</td>\n",
       "      <td>15.29</td>\n",
       "      <td>14.76</td>\n",
       "      <td>16.99</td>\n",
       "      <td>15.81</td>\n",
       "      <td>16.89</td>\n",
       "      <td>17.24</td>\n",
       "      <td>...</td>\n",
       "      <td>5.21</td>\n",
       "      <td>7.03</td>\n",
       "      <td>7.64</td>\n",
       "      <td>7.81</td>\n",
       "      <td>8.53</td>\n",
       "      <td>6.40</td>\n",
       "      <td>5.58</td>\n",
       "      <td>3.55</td>\n",
       "      <td>3.52</td>\n",
       "      <td>5.76</td>\n",
       "    </tr>\n",
       "    <tr>\n",
       "      <th>313</th>\n",
       "      <td>T2M_MIN</td>\n",
       "      <td>2024</td>\n",
       "      <td>15.93</td>\n",
       "      <td>13.93</td>\n",
       "      <td>14.21</td>\n",
       "      <td>14.95</td>\n",
       "      <td>16.76</td>\n",
       "      <td>17.71</td>\n",
       "      <td>16.85</td>\n",
       "      <td>17.28</td>\n",
       "      <td>...</td>\n",
       "      <td>6.85</td>\n",
       "      <td>7.72</td>\n",
       "      <td>7.68</td>\n",
       "      <td>5.59</td>\n",
       "      <td>6.97</td>\n",
       "      <td>7.18</td>\n",
       "      <td>5.16</td>\n",
       "      <td>3.61</td>\n",
       "      <td>6.89</td>\n",
       "      <td>3.63</td>\n",
       "    </tr>\n",
       "    <tr>\n",
       "      <th>314</th>\n",
       "      <td>T2M_MIN</td>\n",
       "      <td>2025</td>\n",
       "      <td>14.90</td>\n",
       "      <td>15.61</td>\n",
       "      <td>15.96</td>\n",
       "      <td>16.50</td>\n",
       "      <td>-999.00</td>\n",
       "      <td>-999.00</td>\n",
       "      <td>-999.00</td>\n",
       "      <td>-999.00</td>\n",
       "      <td>...</td>\n",
       "      <td>4.99</td>\n",
       "      <td>6.05</td>\n",
       "      <td>7.93</td>\n",
       "      <td>5.21</td>\n",
       "      <td>7.46</td>\n",
       "      <td>7.72</td>\n",
       "      <td>8.42</td>\n",
       "      <td>5.22</td>\n",
       "      <td>5.42</td>\n",
       "      <td>7.62</td>\n",
       "    </tr>\n",
       "  </tbody>\n",
       "</table>\n",
       "<p>5 rows × 27 columns</p>\n",
       "</div>"
      ]
     },
     "execution_count": 6,
     "metadata": {},
     "output_type": "execute_result"
    }
   ],
   "execution_count": 6
  },
  {
   "metadata": {
    "ExecuteTime": {
     "end_time": "2025-07-14T05:38:17.022130Z",
     "start_time": "2025-07-14T05:38:17.016204Z"
    }
   },
   "cell_type": "code",
   "source": [
    "#Notamos que anno 2025 como NO ha fanilizado tiene valores -999, esto afectaria el molode\n",
    "#por lo que el grupo decide eliminar esta columna"
   ],
   "id": "dd84689011278936",
   "outputs": [],
   "execution_count": 16
  },
  {
   "metadata": {
    "ExecuteTime": {
     "end_time": "2025-07-18T20:42:47.198750Z",
     "start_time": "2025-07-18T20:42:47.186374Z"
    }
   },
   "cell_type": "code",
   "source": [
    "# Filtrar los datos para eliminar el año 2025\n",
    "df = df[df['YEAR'] != 2025]"
   ],
   "id": "513a4f3e48333ab9",
   "outputs": [],
   "execution_count": 7
  },
  {
   "metadata": {
    "ExecuteTime": {
     "end_time": "2025-07-18T20:42:48.457195Z",
     "start_time": "2025-07-18T20:42:48.432911Z"
    }
   },
   "cell_type": "code",
   "source": "df.to_csv(path+\"/df_sin_2025.csv\", index=False)",
   "id": "ece72b4879a50f48",
   "outputs": [],
   "execution_count": 8
  },
  {
   "metadata": {
    "ExecuteTime": {
     "end_time": "2025-07-18T20:42:51.304370Z",
     "start_time": "2025-07-18T20:42:51.222152Z"
    }
   },
   "cell_type": "code",
   "source": [
    "recomendador = RecomendadorClimatico(path+\"/df_sin_2025.csv\", path+\"/datos_con_recomendaciones_completo.csv\")\n",
    "recomendador.procesar()"
   ],
   "id": "903d83c1e91fd389",
   "outputs": [
    {
     "name": "stdout",
     "output_type": "stream",
     "text": [
      "✅ Archivo generado: ../data/raw/ANN/datos_con_recomendaciones_completo.csv\n"
     ]
    }
   ],
   "execution_count": 9
  },
  {
   "metadata": {
    "ExecuteTime": {
     "end_time": "2025-07-18T20:42:53.801477Z",
     "start_time": "2025-07-18T20:42:53.774417Z"
    }
   },
   "cell_type": "code",
   "source": [
    "#Lectura datos nuevos\n",
    "df = pd.read_csv(path+'/datos_con_recomendaciones_completo.csv',encoding = \"ISO-8859-1\",delimiter=',')"
   ],
   "id": "c468ffcc931db58f",
   "outputs": [],
   "execution_count": 10
  },
  {
   "metadata": {
    "ExecuteTime": {
     "end_time": "2025-07-14T05:38:41.371889Z",
     "start_time": "2025-07-14T05:38:41.363377Z"
    }
   },
   "cell_type": "code",
   "source": "# 3.Análisis de Datos (EDA) + Preprocesado",
   "id": "d49bccf4c1e257a3",
   "outputs": [],
   "execution_count": 22
  },
  {
   "metadata": {
    "ExecuteTime": {
     "end_time": "2025-07-18T20:42:55.837106Z",
     "start_time": "2025-07-18T20:42:55.815435Z"
    }
   },
   "cell_type": "code",
   "source": "df[\"Recomendacion\"].value_counts()",
   "id": "4b722bfc02c9f343",
   "outputs": [
    {
     "data": {
      "text/plain": [
       "Recomendacion\n",
       "fertilizacion      214\n",
       "poda_preventiva    167\n",
       "riego              147\n",
       "Name: count, dtype: int64"
      ]
     },
     "execution_count": 11,
     "metadata": {},
     "output_type": "execute_result"
    }
   ],
   "execution_count": 11
  },
  {
   "metadata": {
    "ExecuteTime": {
     "end_time": "2025-07-18T20:42:59.088335Z",
     "start_time": "2025-07-18T20:42:59.061567Z"
    }
   },
   "cell_type": "code",
   "source": "df.info()",
   "id": "236a61c0f07d974b",
   "outputs": [
    {
     "name": "stdout",
     "output_type": "stream",
     "text": [
      "<class 'pandas.core.frame.DataFrame'>\n",
      "RangeIndex: 528 entries, 0 to 527\n",
      "Data columns (total 8 columns):\n",
      " #   Column         Non-Null Count  Dtype  \n",
      "---  ------         --------------  -----  \n",
      " 0   YEAR           528 non-null    int64  \n",
      " 1   MONTH          528 non-null    object \n",
      " 2   lluvia_mm      528 non-null    float64\n",
      " 3   temp_max       528 non-null    float64\n",
      " 4   temp_min       528 non-null    float64\n",
      " 5   humedad        528 non-null    float64\n",
      " 6   ph_suelo       528 non-null    float64\n",
      " 7   Recomendacion  528 non-null    object \n",
      "dtypes: float64(5), int64(1), object(2)\n",
      "memory usage: 33.1+ KB\n"
     ]
    }
   ],
   "execution_count": 12
  },
  {
   "metadata": {
    "ExecuteTime": {
     "end_time": "2025-07-14T05:38:49.382039Z",
     "start_time": "2025-07-14T05:38:49.366983Z"
    }
   },
   "cell_type": "code",
   "source": "df.isnull().sum() #Verificamos si hay valores nulos en alguna columna del dataframe",
   "id": "2d9c01a866842633",
   "outputs": [
    {
     "data": {
      "text/plain": [
       "YEAR             0\n",
       "MONTH            0\n",
       "lluvia_mm        0\n",
       "temp_max         0\n",
       "temp_min         0\n",
       "humedad          0\n",
       "ph_suelo         0\n",
       "Recomendacion    0\n",
       "dtype: int64"
      ]
     },
     "execution_count": 25,
     "metadata": {},
     "output_type": "execute_result"
    }
   ],
   "execution_count": 25
  },
  {
   "metadata": {
    "ExecuteTime": {
     "end_time": "2025-07-18T20:43:02.791863Z",
     "start_time": "2025-07-18T20:43:02.756430Z"
    }
   },
   "cell_type": "code",
   "source": "df.describe().transpose()",
   "id": "e26b0ca93e7509f9",
   "outputs": [
    {
     "data": {
      "text/plain": [
       "           count         mean        std      min        25%       50%  \\\n",
       "YEAR       528.0  2002.500000  12.710467  1981.00  1991.7500  2002.500   \n",
       "lluvia_mm  528.0     5.246534   3.767827     0.02     2.4450     4.700   \n",
       "temp_max   528.0    26.288277   1.649643    23.34    25.1700    25.950   \n",
       "temp_min   528.0    15.276458   1.118109    11.92    14.5800    15.300   \n",
       "humedad    528.0    88.266098   4.373132    73.32    85.9525    89.555   \n",
       "ph_suelo   528.0     5.888182   1.737556     3.01     4.3550     5.810   \n",
       "\n",
       "                75%      max  \n",
       "YEAR       2013.250  2024.00  \n",
       "lluvia_mm     7.240    25.99  \n",
       "temp_max     27.015    31.78  \n",
       "temp_min     16.080    18.14  \n",
       "humedad      91.385    94.48  \n",
       "ph_suelo      7.400     9.00  "
      ],
      "text/html": [
       "<div>\n",
       "<style scoped>\n",
       "    .dataframe tbody tr th:only-of-type {\n",
       "        vertical-align: middle;\n",
       "    }\n",
       "\n",
       "    .dataframe tbody tr th {\n",
       "        vertical-align: top;\n",
       "    }\n",
       "\n",
       "    .dataframe thead th {\n",
       "        text-align: right;\n",
       "    }\n",
       "</style>\n",
       "<table border=\"1\" class=\"dataframe\">\n",
       "  <thead>\n",
       "    <tr style=\"text-align: right;\">\n",
       "      <th></th>\n",
       "      <th>count</th>\n",
       "      <th>mean</th>\n",
       "      <th>std</th>\n",
       "      <th>min</th>\n",
       "      <th>25%</th>\n",
       "      <th>50%</th>\n",
       "      <th>75%</th>\n",
       "      <th>max</th>\n",
       "    </tr>\n",
       "  </thead>\n",
       "  <tbody>\n",
       "    <tr>\n",
       "      <th>YEAR</th>\n",
       "      <td>528.0</td>\n",
       "      <td>2002.500000</td>\n",
       "      <td>12.710467</td>\n",
       "      <td>1981.00</td>\n",
       "      <td>1991.7500</td>\n",
       "      <td>2002.500</td>\n",
       "      <td>2013.250</td>\n",
       "      <td>2024.00</td>\n",
       "    </tr>\n",
       "    <tr>\n",
       "      <th>lluvia_mm</th>\n",
       "      <td>528.0</td>\n",
       "      <td>5.246534</td>\n",
       "      <td>3.767827</td>\n",
       "      <td>0.02</td>\n",
       "      <td>2.4450</td>\n",
       "      <td>4.700</td>\n",
       "      <td>7.240</td>\n",
       "      <td>25.99</td>\n",
       "    </tr>\n",
       "    <tr>\n",
       "      <th>temp_max</th>\n",
       "      <td>528.0</td>\n",
       "      <td>26.288277</td>\n",
       "      <td>1.649643</td>\n",
       "      <td>23.34</td>\n",
       "      <td>25.1700</td>\n",
       "      <td>25.950</td>\n",
       "      <td>27.015</td>\n",
       "      <td>31.78</td>\n",
       "    </tr>\n",
       "    <tr>\n",
       "      <th>temp_min</th>\n",
       "      <td>528.0</td>\n",
       "      <td>15.276458</td>\n",
       "      <td>1.118109</td>\n",
       "      <td>11.92</td>\n",
       "      <td>14.5800</td>\n",
       "      <td>15.300</td>\n",
       "      <td>16.080</td>\n",
       "      <td>18.14</td>\n",
       "    </tr>\n",
       "    <tr>\n",
       "      <th>humedad</th>\n",
       "      <td>528.0</td>\n",
       "      <td>88.266098</td>\n",
       "      <td>4.373132</td>\n",
       "      <td>73.32</td>\n",
       "      <td>85.9525</td>\n",
       "      <td>89.555</td>\n",
       "      <td>91.385</td>\n",
       "      <td>94.48</td>\n",
       "    </tr>\n",
       "    <tr>\n",
       "      <th>ph_suelo</th>\n",
       "      <td>528.0</td>\n",
       "      <td>5.888182</td>\n",
       "      <td>1.737556</td>\n",
       "      <td>3.01</td>\n",
       "      <td>4.3550</td>\n",
       "      <td>5.810</td>\n",
       "      <td>7.400</td>\n",
       "      <td>9.00</td>\n",
       "    </tr>\n",
       "  </tbody>\n",
       "</table>\n",
       "</div>"
      ]
     },
     "execution_count": 13,
     "metadata": {},
     "output_type": "execute_result"
    }
   ],
   "execution_count": 13
  },
  {
   "metadata": {
    "ExecuteTime": {
     "end_time": "2025-07-14T05:39:11.832904Z",
     "start_time": "2025-07-14T05:39:11.815285Z"
    }
   },
   "cell_type": "code",
   "source": "df",
   "id": "d73131132ccae6d2",
   "outputs": [
    {
     "data": {
      "text/plain": [
       "     YEAR MONTH  lluvia_mm  temp_max  temp_min  humedad  ph_suelo  \\\n",
       "0    1981   JAN       2.64     23.90     14.19    88.79      6.25   \n",
       "1    1982   JAN       3.30     24.54     14.02    89.43      6.58   \n",
       "2    1983   JAN       1.38     26.13     15.75    88.61      3.14   \n",
       "3    1984   JAN       0.69     23.68     13.14    87.41      3.89   \n",
       "4    1985   JAN       1.94     23.45     14.37    86.96      6.11   \n",
       "..    ...   ...        ...       ...       ...      ...       ...   \n",
       "523  2020   DEC      10.77     24.26     13.57    91.87      3.51   \n",
       "524  2021   DEC       4.18     24.62     16.47    91.61      7.90   \n",
       "525  2022   DEC       3.39     24.12     15.47    90.88      8.67   \n",
       "526  2023   DEC       4.84     25.70     16.68    91.62      3.69   \n",
       "527  2024   DEC       7.89     24.69     16.22    93.15      3.60   \n",
       "\n",
       "       Recomendacion  \n",
       "0              riego  \n",
       "1    poda_preventiva  \n",
       "2      fertilizacion  \n",
       "3      fertilizacion  \n",
       "4              riego  \n",
       "..               ...  \n",
       "523    fertilizacion  \n",
       "524  poda_preventiva  \n",
       "525  poda_preventiva  \n",
       "526    fertilizacion  \n",
       "527    fertilizacion  \n",
       "\n",
       "[528 rows x 8 columns]"
      ],
      "text/html": [
       "<div>\n",
       "<style scoped>\n",
       "    .dataframe tbody tr th:only-of-type {\n",
       "        vertical-align: middle;\n",
       "    }\n",
       "\n",
       "    .dataframe tbody tr th {\n",
       "        vertical-align: top;\n",
       "    }\n",
       "\n",
       "    .dataframe thead th {\n",
       "        text-align: right;\n",
       "    }\n",
       "</style>\n",
       "<table border=\"1\" class=\"dataframe\">\n",
       "  <thead>\n",
       "    <tr style=\"text-align: right;\">\n",
       "      <th></th>\n",
       "      <th>YEAR</th>\n",
       "      <th>MONTH</th>\n",
       "      <th>lluvia_mm</th>\n",
       "      <th>temp_max</th>\n",
       "      <th>temp_min</th>\n",
       "      <th>humedad</th>\n",
       "      <th>ph_suelo</th>\n",
       "      <th>Recomendacion</th>\n",
       "    </tr>\n",
       "  </thead>\n",
       "  <tbody>\n",
       "    <tr>\n",
       "      <th>0</th>\n",
       "      <td>1981</td>\n",
       "      <td>JAN</td>\n",
       "      <td>2.64</td>\n",
       "      <td>23.90</td>\n",
       "      <td>14.19</td>\n",
       "      <td>88.79</td>\n",
       "      <td>6.25</td>\n",
       "      <td>riego</td>\n",
       "    </tr>\n",
       "    <tr>\n",
       "      <th>1</th>\n",
       "      <td>1982</td>\n",
       "      <td>JAN</td>\n",
       "      <td>3.30</td>\n",
       "      <td>24.54</td>\n",
       "      <td>14.02</td>\n",
       "      <td>89.43</td>\n",
       "      <td>6.58</td>\n",
       "      <td>poda_preventiva</td>\n",
       "    </tr>\n",
       "    <tr>\n",
       "      <th>2</th>\n",
       "      <td>1983</td>\n",
       "      <td>JAN</td>\n",
       "      <td>1.38</td>\n",
       "      <td>26.13</td>\n",
       "      <td>15.75</td>\n",
       "      <td>88.61</td>\n",
       "      <td>3.14</td>\n",
       "      <td>fertilizacion</td>\n",
       "    </tr>\n",
       "    <tr>\n",
       "      <th>3</th>\n",
       "      <td>1984</td>\n",
       "      <td>JAN</td>\n",
       "      <td>0.69</td>\n",
       "      <td>23.68</td>\n",
       "      <td>13.14</td>\n",
       "      <td>87.41</td>\n",
       "      <td>3.89</td>\n",
       "      <td>fertilizacion</td>\n",
       "    </tr>\n",
       "    <tr>\n",
       "      <th>4</th>\n",
       "      <td>1985</td>\n",
       "      <td>JAN</td>\n",
       "      <td>1.94</td>\n",
       "      <td>23.45</td>\n",
       "      <td>14.37</td>\n",
       "      <td>86.96</td>\n",
       "      <td>6.11</td>\n",
       "      <td>riego</td>\n",
       "    </tr>\n",
       "    <tr>\n",
       "      <th>...</th>\n",
       "      <td>...</td>\n",
       "      <td>...</td>\n",
       "      <td>...</td>\n",
       "      <td>...</td>\n",
       "      <td>...</td>\n",
       "      <td>...</td>\n",
       "      <td>...</td>\n",
       "      <td>...</td>\n",
       "    </tr>\n",
       "    <tr>\n",
       "      <th>523</th>\n",
       "      <td>2020</td>\n",
       "      <td>DEC</td>\n",
       "      <td>10.77</td>\n",
       "      <td>24.26</td>\n",
       "      <td>13.57</td>\n",
       "      <td>91.87</td>\n",
       "      <td>3.51</td>\n",
       "      <td>fertilizacion</td>\n",
       "    </tr>\n",
       "    <tr>\n",
       "      <th>524</th>\n",
       "      <td>2021</td>\n",
       "      <td>DEC</td>\n",
       "      <td>4.18</td>\n",
       "      <td>24.62</td>\n",
       "      <td>16.47</td>\n",
       "      <td>91.61</td>\n",
       "      <td>7.90</td>\n",
       "      <td>poda_preventiva</td>\n",
       "    </tr>\n",
       "    <tr>\n",
       "      <th>525</th>\n",
       "      <td>2022</td>\n",
       "      <td>DEC</td>\n",
       "      <td>3.39</td>\n",
       "      <td>24.12</td>\n",
       "      <td>15.47</td>\n",
       "      <td>90.88</td>\n",
       "      <td>8.67</td>\n",
       "      <td>poda_preventiva</td>\n",
       "    </tr>\n",
       "    <tr>\n",
       "      <th>526</th>\n",
       "      <td>2023</td>\n",
       "      <td>DEC</td>\n",
       "      <td>4.84</td>\n",
       "      <td>25.70</td>\n",
       "      <td>16.68</td>\n",
       "      <td>91.62</td>\n",
       "      <td>3.69</td>\n",
       "      <td>fertilizacion</td>\n",
       "    </tr>\n",
       "    <tr>\n",
       "      <th>527</th>\n",
       "      <td>2024</td>\n",
       "      <td>DEC</td>\n",
       "      <td>7.89</td>\n",
       "      <td>24.69</td>\n",
       "      <td>16.22</td>\n",
       "      <td>93.15</td>\n",
       "      <td>3.60</td>\n",
       "      <td>fertilizacion</td>\n",
       "    </tr>\n",
       "  </tbody>\n",
       "</table>\n",
       "<p>528 rows × 8 columns</p>\n",
       "</div>"
      ]
     },
     "execution_count": 27,
     "metadata": {},
     "output_type": "execute_result"
    }
   ],
   "execution_count": 27
  },
  {
   "metadata": {
    "ExecuteTime": {
     "end_time": "2025-07-14T05:39:14.524589Z",
     "start_time": "2025-07-14T05:39:14.517985Z"
    }
   },
   "cell_type": "code",
   "source": [
    "#Transformaciones\n",
    "\n",
    "#riego:1\n",
    "#fertilizacion: 2\n",
    "#poda_preventiva: 3"
   ],
   "id": "eb5fba6f1cddc41c",
   "outputs": [],
   "execution_count": 28
  },
  {
   "metadata": {
    "ExecuteTime": {
     "end_time": "2025-07-18T20:43:08.810082Z",
     "start_time": "2025-07-18T20:43:08.794188Z"
    }
   },
   "cell_type": "code",
   "source": [
    "transformador = Transformaciones()\n",
    "transformador.recomendacion_num(df)"
   ],
   "id": "821721b7751c44e9",
   "outputs": [
    {
     "data": {
      "text/plain": [
       "     YEAR MONTH  lluvia_mm  temp_max  temp_min  humedad  ph_suelo  \\\n",
       "0    1981   JAN       2.64     23.90     14.19    88.79      5.60   \n",
       "1    1982   JAN       3.30     24.54     14.02    89.43      6.90   \n",
       "2    1983   JAN       1.38     26.13     15.75    88.61      6.21   \n",
       "3    1984   JAN       0.69     23.68     13.14    87.41      7.59   \n",
       "4    1985   JAN       1.94     23.45     14.37    86.96      8.74   \n",
       "..    ...   ...        ...       ...       ...      ...       ...   \n",
       "523  2020   DEC      10.77     24.26     13.57    91.87      6.43   \n",
       "524  2021   DEC       4.18     24.62     16.47    91.61      3.28   \n",
       "525  2022   DEC       3.39     24.12     15.47    90.88      7.35   \n",
       "526  2023   DEC       4.84     25.70     16.68    91.62      5.60   \n",
       "527  2024   DEC       7.89     24.69     16.22    93.15      6.01   \n",
       "\n",
       "     Recomendacion  \n",
       "0                2  \n",
       "1                3  \n",
       "2                3  \n",
       "3                1  \n",
       "4                1  \n",
       "..             ...  \n",
       "523              3  \n",
       "524              2  \n",
       "525              3  \n",
       "526              2  \n",
       "527              3  \n",
       "\n",
       "[528 rows x 8 columns]"
      ],
      "text/html": [
       "<div>\n",
       "<style scoped>\n",
       "    .dataframe tbody tr th:only-of-type {\n",
       "        vertical-align: middle;\n",
       "    }\n",
       "\n",
       "    .dataframe tbody tr th {\n",
       "        vertical-align: top;\n",
       "    }\n",
       "\n",
       "    .dataframe thead th {\n",
       "        text-align: right;\n",
       "    }\n",
       "</style>\n",
       "<table border=\"1\" class=\"dataframe\">\n",
       "  <thead>\n",
       "    <tr style=\"text-align: right;\">\n",
       "      <th></th>\n",
       "      <th>YEAR</th>\n",
       "      <th>MONTH</th>\n",
       "      <th>lluvia_mm</th>\n",
       "      <th>temp_max</th>\n",
       "      <th>temp_min</th>\n",
       "      <th>humedad</th>\n",
       "      <th>ph_suelo</th>\n",
       "      <th>Recomendacion</th>\n",
       "    </tr>\n",
       "  </thead>\n",
       "  <tbody>\n",
       "    <tr>\n",
       "      <th>0</th>\n",
       "      <td>1981</td>\n",
       "      <td>JAN</td>\n",
       "      <td>2.64</td>\n",
       "      <td>23.90</td>\n",
       "      <td>14.19</td>\n",
       "      <td>88.79</td>\n",
       "      <td>5.60</td>\n",
       "      <td>2</td>\n",
       "    </tr>\n",
       "    <tr>\n",
       "      <th>1</th>\n",
       "      <td>1982</td>\n",
       "      <td>JAN</td>\n",
       "      <td>3.30</td>\n",
       "      <td>24.54</td>\n",
       "      <td>14.02</td>\n",
       "      <td>89.43</td>\n",
       "      <td>6.90</td>\n",
       "      <td>3</td>\n",
       "    </tr>\n",
       "    <tr>\n",
       "      <th>2</th>\n",
       "      <td>1983</td>\n",
       "      <td>JAN</td>\n",
       "      <td>1.38</td>\n",
       "      <td>26.13</td>\n",
       "      <td>15.75</td>\n",
       "      <td>88.61</td>\n",
       "      <td>6.21</td>\n",
       "      <td>3</td>\n",
       "    </tr>\n",
       "    <tr>\n",
       "      <th>3</th>\n",
       "      <td>1984</td>\n",
       "      <td>JAN</td>\n",
       "      <td>0.69</td>\n",
       "      <td>23.68</td>\n",
       "      <td>13.14</td>\n",
       "      <td>87.41</td>\n",
       "      <td>7.59</td>\n",
       "      <td>1</td>\n",
       "    </tr>\n",
       "    <tr>\n",
       "      <th>4</th>\n",
       "      <td>1985</td>\n",
       "      <td>JAN</td>\n",
       "      <td>1.94</td>\n",
       "      <td>23.45</td>\n",
       "      <td>14.37</td>\n",
       "      <td>86.96</td>\n",
       "      <td>8.74</td>\n",
       "      <td>1</td>\n",
       "    </tr>\n",
       "    <tr>\n",
       "      <th>...</th>\n",
       "      <td>...</td>\n",
       "      <td>...</td>\n",
       "      <td>...</td>\n",
       "      <td>...</td>\n",
       "      <td>...</td>\n",
       "      <td>...</td>\n",
       "      <td>...</td>\n",
       "      <td>...</td>\n",
       "    </tr>\n",
       "    <tr>\n",
       "      <th>523</th>\n",
       "      <td>2020</td>\n",
       "      <td>DEC</td>\n",
       "      <td>10.77</td>\n",
       "      <td>24.26</td>\n",
       "      <td>13.57</td>\n",
       "      <td>91.87</td>\n",
       "      <td>6.43</td>\n",
       "      <td>3</td>\n",
       "    </tr>\n",
       "    <tr>\n",
       "      <th>524</th>\n",
       "      <td>2021</td>\n",
       "      <td>DEC</td>\n",
       "      <td>4.18</td>\n",
       "      <td>24.62</td>\n",
       "      <td>16.47</td>\n",
       "      <td>91.61</td>\n",
       "      <td>3.28</td>\n",
       "      <td>2</td>\n",
       "    </tr>\n",
       "    <tr>\n",
       "      <th>525</th>\n",
       "      <td>2022</td>\n",
       "      <td>DEC</td>\n",
       "      <td>3.39</td>\n",
       "      <td>24.12</td>\n",
       "      <td>15.47</td>\n",
       "      <td>90.88</td>\n",
       "      <td>7.35</td>\n",
       "      <td>3</td>\n",
       "    </tr>\n",
       "    <tr>\n",
       "      <th>526</th>\n",
       "      <td>2023</td>\n",
       "      <td>DEC</td>\n",
       "      <td>4.84</td>\n",
       "      <td>25.70</td>\n",
       "      <td>16.68</td>\n",
       "      <td>91.62</td>\n",
       "      <td>5.60</td>\n",
       "      <td>2</td>\n",
       "    </tr>\n",
       "    <tr>\n",
       "      <th>527</th>\n",
       "      <td>2024</td>\n",
       "      <td>DEC</td>\n",
       "      <td>7.89</td>\n",
       "      <td>24.69</td>\n",
       "      <td>16.22</td>\n",
       "      <td>93.15</td>\n",
       "      <td>6.01</td>\n",
       "      <td>3</td>\n",
       "    </tr>\n",
       "  </tbody>\n",
       "</table>\n",
       "<p>528 rows × 8 columns</p>\n",
       "</div>"
      ]
     },
     "execution_count": 14,
     "metadata": {},
     "output_type": "execute_result"
    }
   ],
   "execution_count": 14
  },
  {
   "metadata": {
    "ExecuteTime": {
     "end_time": "2025-07-07T22:26:50.735991Z",
     "start_time": "2025-07-07T22:26:50.729312Z"
    }
   },
   "cell_type": "code",
   "source": "#Plots",
   "id": "5deb089c5e6276d4",
   "outputs": [],
   "execution_count": 22
  },
  {
   "metadata": {
    "ExecuteTime": {
     "end_time": "2025-07-18T20:43:12.906592Z",
     "start_time": "2025-07-18T20:43:12.598815Z"
    }
   },
   "cell_type": "code",
   "source": [
    "#Verificar si hay una proporción equilibrada entre los diferentes valores de la variable objetivo para un buen modelado posterior\n",
    "sns.countplot(x='Recomendacion',data=df)"
   ],
   "id": "3ae0e023901a4de3",
   "outputs": [
    {
     "data": {
      "text/plain": [
       "<Axes: xlabel='Recomendacion', ylabel='count'>"
      ]
     },
     "execution_count": 15,
     "metadata": {},
     "output_type": "execute_result"
    },
    {
     "data": {
      "text/plain": [
       "<Figure size 640x480 with 1 Axes>"
      ],
      "image/png": "[encoded data removed]"
     },
     "metadata": {},
     "output_type": "display_data"
    }
   ],
   "execution_count": 15
  },
  {
   "metadata": {
    "ExecuteTime": {
     "end_time": "2025-07-18T20:43:16.305687Z",
     "start_time": "2025-07-18T20:43:15.954143Z"
    }
   },
   "cell_type": "code",
   "source": [
    "plt.figure(figsize=(17,12))\n",
    "sns.heatmap(df.corr(numeric_only = True),annot=True,cmap='viridis')\n",
    "plt.ylim(10, 0)"
   ],
   "id": "34809971ff03981e",
   "outputs": [
    {
     "data": {
      "text/plain": [
       "(10.0, 0.0)"
      ]
     },
     "execution_count": 16,
     "metadata": {},
     "output_type": "execute_result"
    },
    {
     "data": {
      "text/plain": [
       "<Figure size 1700x1200 with 2 Axes>"
      ],
      "image/png": "[encoded data removed]"
     },
     "metadata": {},
     "output_type": "display_data"
    }
   ],
   "execution_count": 16
  },
  {
   "metadata": {
    "ExecuteTime": {
     "end_time": "2025-07-18T20:43:19.933291Z",
     "start_time": "2025-07-18T20:43:19.919632Z"
    }
   },
   "cell_type": "code",
   "source": "df.corr(numeric_only = True)['Recomendacion'].sort_values()",
   "id": "3127bf895ab7e97e",
   "outputs": [
    {
     "data": {
      "text/plain": [
       "temp_max        -0.564963\n",
       "YEAR             0.140582\n",
       "temp_min         0.182838\n",
       "ph_suelo         0.330039\n",
       "lluvia_mm        0.349338\n",
       "humedad          0.662719\n",
       "Recomendacion    1.000000\n",
       "Name: Recomendacion, dtype: float64"
      ]
     },
     "execution_count": 17,
     "metadata": {},
     "output_type": "execute_result"
    }
   ],
   "execution_count": 17
  },
  {
   "metadata": {
    "ExecuteTime": {
     "end_time": "2025-07-18T20:43:25.106269Z",
     "start_time": "2025-07-18T20:43:24.927460Z"
    }
   },
   "cell_type": "code",
   "source": "df.corr(numeric_only = True)['Recomendacion'].sort_values().plot(kind='bar')",
   "id": "a92c41ac2d8f9718",
   "outputs": [
    {
     "data": {
      "text/plain": [
       "<Axes: >"
      ]
     },
     "execution_count": 18,
     "metadata": {},
     "output_type": "execute_result"
    },
    {
     "data": {
      "text/plain": [
       "<Figure size 640x480 with 1 Axes>"
      ],
      "image/png": "[encoded data removed]"
     },
     "metadata": {},
     "output_type": "display_data"
    }
   ],
   "execution_count": 18
  },
  {
   "metadata": {
    "ExecuteTime": {
     "end_time": "2025-07-18T20:43:29.436771Z",
     "start_time": "2025-07-18T20:43:29.110991Z"
    }
   },
   "cell_type": "code",
   "source": [
    "from sklearn.preprocessing import MinMaxScaler\n",
    "\n",
    "escalador = MinMaxScaler()\n",
    "\n",
    "# columnas numéricas:\n",
    "normalizar = ['lluvia_mm', 'temp_max', 'temp_min', 'humedad', 'ph_suelo']\n",
    "\n",
    "# Aplica la normalización\n",
    "df[normalizar] = escalador.fit_transform(df[normalizar])\n"
   ],
   "id": "6d3657b9f36f71d3",
   "outputs": [],
   "execution_count": 19
  },
  {
   "metadata": {
    "ExecuteTime": {
     "end_time": "2025-07-18T20:43:32.365842Z",
     "start_time": "2025-07-18T20:43:32.343183Z"
    }
   },
   "cell_type": "code",
   "source": "df",
   "id": "ba6f69426ff3aa95",
   "outputs": [
    {
     "data": {
      "text/plain": [
       "     YEAR MONTH  lluvia_mm  temp_max  temp_min   humedad  ph_suelo  \\\n",
       "0    1981   JAN   0.100886  0.066351  0.364952  0.731096  0.432387   \n",
       "1    1982   JAN   0.126300  0.142180  0.337621  0.761342  0.649416   \n",
       "2    1983   JAN   0.052368  0.330569  0.615756  0.722590  0.534224   \n",
       "3    1984   JAN   0.025799  0.040284  0.196141  0.665879  0.764608   \n",
       "4    1985   JAN   0.073931  0.013033  0.393891  0.644612  0.956594   \n",
       "..    ...   ...        ...       ...       ...       ...       ...   \n",
       "523  2020   DEC   0.413939  0.109005  0.265273  0.876654  0.570952   \n",
       "524  2021   DEC   0.160185  0.151659  0.731511  0.864367  0.045075   \n",
       "525  2022   DEC   0.129765  0.092417  0.570740  0.829868  0.724541   \n",
       "526  2023   DEC   0.185599  0.279621  0.765273  0.864839  0.432387   \n",
       "527  2024   DEC   0.303042  0.159953  0.691318  0.937146  0.500835   \n",
       "\n",
       "     Recomendacion  \n",
       "0                2  \n",
       "1                3  \n",
       "2                3  \n",
       "3                1  \n",
       "4                1  \n",
       "..             ...  \n",
       "523              3  \n",
       "524              2  \n",
       "525              3  \n",
       "526              2  \n",
       "527              3  \n",
       "\n",
       "[528 rows x 8 columns]"
      ],
      "text/html": [
       "<div>\n",
       "<style scoped>\n",
       "    .dataframe tbody tr th:only-of-type {\n",
       "        vertical-align: middle;\n",
       "    }\n",
       "\n",
       "    .dataframe tbody tr th {\n",
       "        vertical-align: top;\n",
       "    }\n",
       "\n",
       "    .dataframe thead th {\n",
       "        text-align: right;\n",
       "    }\n",
       "</style>\n",
       "<table border=\"1\" class=\"dataframe\">\n",
       "  <thead>\n",
       "    <tr style=\"text-align: right;\">\n",
       "      <th></th>\n",
       "      <th>YEAR</th>\n",
       "      <th>MONTH</th>\n",
       "      <th>lluvia_mm</th>\n",
       "      <th>temp_max</th>\n",
       "      <th>temp_min</th>\n",
       "      <th>humedad</th>\n",
       "      <th>ph_suelo</th>\n",
       "      <th>Recomendacion</th>\n",
       "    </tr>\n",
       "  </thead>\n",
       "  <tbody>\n",
       "    <tr>\n",
       "      <th>0</th>\n",
       "      <td>1981</td>\n",
       "      <td>JAN</td>\n",
       "      <td>0.100886</td>\n",
       "      <td>0.066351</td>\n",
       "      <td>0.364952</td>\n",
       "      <td>0.731096</td>\n",
       "      <td>0.432387</td>\n",
       "      <td>2</td>\n",
       "    </tr>\n",
       "    <tr>\n",
       "      <th>1</th>\n",
       "      <td>1982</td>\n",
       "      <td>JAN</td>\n",
       "      <td>0.126300</td>\n",
       "      <td>0.142180</td>\n",
       "      <td>0.337621</td>\n",
       "      <td>0.761342</td>\n",
       "      <td>0.649416</td>\n",
       "      <td>3</td>\n",
       "    </tr>\n",
       "    <tr>\n",
       "      <th>2</th>\n",
       "      <td>1983</td>\n",
       "      <td>JAN</td>\n",
       "      <td>0.052368</td>\n",
       "      <td>0.330569</td>\n",
       "      <td>0.615756</td>\n",
       "      <td>0.722590</td>\n",
       "      <td>0.534224</td>\n",
       "      <td>3</td>\n",
       "    </tr>\n",
       "    <tr>\n",
       "      <th>3</th>\n",
       "      <td>1984</td>\n",
       "      <td>JAN</td>\n",
       "      <td>0.025799</td>\n",
       "      <td>0.040284</td>\n",
       "      <td>0.196141</td>\n",
       "      <td>0.665879</td>\n",
       "      <td>0.764608</td>\n",
       "      <td>1</td>\n",
       "    </tr>\n",
       "    <tr>\n",
       "      <th>4</th>\n",
       "      <td>1985</td>\n",
       "      <td>JAN</td>\n",
       "      <td>0.073931</td>\n",
       "      <td>0.013033</td>\n",
       "      <td>0.393891</td>\n",
       "      <td>0.644612</td>\n",
       "      <td>0.956594</td>\n",
       "      <td>1</td>\n",
       "    </tr>\n",
       "    <tr>\n",
       "      <th>...</th>\n",
       "      <td>...</td>\n",
       "      <td>...</td>\n",
       "      <td>...</td>\n",
       "      <td>...</td>\n",
       "      <td>...</td>\n",
       "      <td>...</td>\n",
       "      <td>...</td>\n",
       "      <td>...</td>\n",
       "    </tr>\n",
       "    <tr>\n",
       "      <th>523</th>\n",
       "      <td>2020</td>\n",
       "      <td>DEC</td>\n",
       "      <td>0.413939</td>\n",
       "      <td>0.109005</td>\n",
       "      <td>0.265273</td>\n",
       "      <td>0.876654</td>\n",
       "      <td>0.570952</td>\n",
       "      <td>3</td>\n",
       "    </tr>\n",
       "    <tr>\n",
       "      <th>524</th>\n",
       "      <td>2021</td>\n",
       "      <td>DEC</td>\n",
       "      <td>0.160185</td>\n",
       "      <td>0.151659</td>\n",
       "      <td>0.731511</td>\n",
       "      <td>0.864367</td>\n",
       "      <td>0.045075</td>\n",
       "      <td>2</td>\n",
       "    </tr>\n",
       "    <tr>\n",
       "      <th>525</th>\n",
       "      <td>2022</td>\n",
       "      <td>DEC</td>\n",
       "      <td>0.129765</td>\n",
       "      <td>0.092417</td>\n",
       "      <td>0.570740</td>\n",
       "      <td>0.829868</td>\n",
       "      <td>0.724541</td>\n",
       "      <td>3</td>\n",
       "    </tr>\n",
       "    <tr>\n",
       "      <th>526</th>\n",
       "      <td>2023</td>\n",
       "      <td>DEC</td>\n",
       "      <td>0.185599</td>\n",
       "      <td>0.279621</td>\n",
       "      <td>0.765273</td>\n",
       "      <td>0.864839</td>\n",
       "      <td>0.432387</td>\n",
       "      <td>2</td>\n",
       "    </tr>\n",
       "    <tr>\n",
       "      <th>527</th>\n",
       "      <td>2024</td>\n",
       "      <td>DEC</td>\n",
       "      <td>0.303042</td>\n",
       "      <td>0.159953</td>\n",
       "      <td>0.691318</td>\n",
       "      <td>0.937146</td>\n",
       "      <td>0.500835</td>\n",
       "      <td>3</td>\n",
       "    </tr>\n",
       "  </tbody>\n",
       "</table>\n",
       "<p>528 rows × 8 columns</p>\n",
       "</div>"
      ]
     },
     "execution_count": 20,
     "metadata": {},
     "output_type": "execute_result"
    }
   ],
   "execution_count": 20
  },
  {
   "metadata": {
    "ExecuteTime": {
     "end_time": "2025-07-18T20:43:39.050833Z",
     "start_time": "2025-07-18T20:43:39.027316Z"
    }
   },
   "cell_type": "code",
   "source": "df.to_csv(\"../data/processed/ANN/recomendaciones.csv\", index=False)",
   "id": "527fd6a4e2540d0f",
   "outputs": [],
   "execution_count": 21
  }
 ],
 "metadata": {},
 "nbformat": 4,
 "nbformat_minor": 5
}
